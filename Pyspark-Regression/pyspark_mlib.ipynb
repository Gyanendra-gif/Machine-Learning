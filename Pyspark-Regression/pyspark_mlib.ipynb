{
 "cells": [
  {
   "cell_type": "code",
   "execution_count": 1,
   "metadata": {},
   "outputs": [],
   "source": [
    "from pyspark.sql import SparkSession\n",
    "from pyspark.ml.stat import Correlation\n",
    "import pyspark.sql.functions as F"
   ]
  },
  {
   "cell_type": "code",
   "execution_count": 2,
   "metadata": {},
   "outputs": [
    {
     "name": "stderr",
     "output_type": "stream",
     "text": [
      "Setting default log level to \"WARN\".\n",
      "To adjust logging level use sc.setLogLevel(newLevel). For SparkR, use setLogLevel(newLevel).\n",
      "2022-03-16 20:00:20,238 WARN util.NativeCodeLoader: Unable to load native-hadoop library for your platform... using builtin-java classes where applicable\n"
     ]
    }
   ],
   "source": [
    "spark=SparkSession.builder.appName('Demo').getOrCreate()"
   ]
  },
  {
   "cell_type": "code",
   "execution_count": 4,
   "metadata": {},
   "outputs": [
    {
     "name": "stderr",
     "output_type": "stream",
     "text": [
      "                                                                                \r"
     ]
    }
   ],
   "source": [
    "df = spark.read.csv(\"file:///home/hdoop/python_operation/ML_Operation/headbrain.csv\", inferSchema=True, header=True)"
   ]
  },
  {
   "cell_type": "code",
   "execution_count": 5,
   "metadata": {},
   "outputs": [
    {
     "name": "stdout",
     "output_type": "stream",
     "text": [
      "+------+---------+---------------+-------------------+\n",
      "|Gender|Age Range|Head Size(cm^3)|Brain Weight(grams)|\n",
      "+------+---------+---------------+-------------------+\n",
      "|     1|        1|           4512|               1530|\n",
      "|     1|        1|           3738|               1297|\n",
      "|     1|        1|           4261|               1335|\n",
      "|     1|        1|           3777|               1282|\n",
      "|     1|        1|           4177|               1590|\n",
      "|     1|        1|           3585|               1300|\n",
      "|     1|        1|           3785|               1400|\n",
      "|     1|        1|           3559|               1255|\n",
      "|     1|        1|           3613|               1355|\n",
      "|     1|        1|           3982|               1375|\n",
      "|     1|        1|           3443|               1340|\n",
      "|     1|        1|           3993|               1380|\n",
      "|     1|        1|           3640|               1355|\n",
      "|     1|        1|           4208|               1522|\n",
      "|     1|        1|           3832|               1208|\n",
      "|     1|        1|           3876|               1405|\n",
      "|     1|        1|           3497|               1358|\n",
      "|     1|        1|           3466|               1292|\n",
      "|     1|        1|           3095|               1340|\n",
      "|     1|        1|           4424|               1400|\n",
      "+------+---------+---------------+-------------------+\n",
      "only showing top 20 rows\n",
      "\n"
     ]
    }
   ],
   "source": [
    "df.show()"
   ]
  },
  {
   "cell_type": "code",
   "execution_count": 6,
   "metadata": {},
   "outputs": [
    {
     "name": "stdout",
     "output_type": "stream",
     "text": [
      "root\n",
      " |-- Gender: integer (nullable = true)\n",
      " |-- Age Range: integer (nullable = true)\n",
      " |-- Head Size(cm^3): integer (nullable = true)\n",
      " |-- Brain Weight(grams): integer (nullable = true)\n",
      "\n"
     ]
    }
   ],
   "source": [
    "df.printSchema()"
   ]
  },
  {
   "cell_type": "code",
   "execution_count": 7,
   "metadata": {},
   "outputs": [],
   "source": [
    "from pyspark.ml.linalg import Vectors\n",
    "from pyspark.ml.feature import VectorAssembler"
   ]
  },
  {
   "cell_type": "code",
   "execution_count": 9,
   "metadata": {},
   "outputs": [
    {
     "data": {
      "text/plain": [
       "['Gender', 'Age Range', 'Head Size(cm^3)', 'Brain Weight(grams)']"
      ]
     },
     "execution_count": 9,
     "metadata": {},
     "output_type": "execute_result"
    }
   ],
   "source": [
    "df.columns"
   ]
  },
  {
   "cell_type": "code",
   "execution_count": 12,
   "metadata": {},
   "outputs": [],
   "source": [
    "assembler = VectorAssembler(inputCols=['Gender','Age Range'], outputCol='features')"
   ]
  },
  {
   "cell_type": "code",
   "execution_count": 18,
   "metadata": {},
   "outputs": [],
   "source": [
    "output = assembler.transform(df)"
   ]
  },
  {
   "cell_type": "code",
   "execution_count": 22,
   "metadata": {},
   "outputs": [],
   "source": [
    "final_df = output.select('features', 'Gender')"
   ]
  },
  {
   "cell_type": "code",
   "execution_count": 23,
   "metadata": {},
   "outputs": [],
   "source": [
    "train_data, test_data = final_df.randomSplit([0.7, 0.3])"
   ]
  },
  {
   "cell_type": "code",
   "execution_count": 25,
   "metadata": {},
   "outputs": [
    {
     "name": "stdout",
     "output_type": "stream",
     "text": [
      "+-------+-------------------+\n",
      "|summary|             Gender|\n",
      "+-------+-------------------+\n",
      "|  count|                157|\n",
      "|   mean| 1.4203821656050954|\n",
      "| stddev|0.49519988886943983|\n",
      "|    min|                  1|\n",
      "|    max|                  2|\n",
      "+-------+-------------------+\n",
      "\n"
     ]
    }
   ],
   "source": [
    "train_data.describe().show()"
   ]
  },
  {
   "cell_type": "code",
   "execution_count": 26,
   "metadata": {},
   "outputs": [
    {
     "name": "stdout",
     "output_type": "stream",
     "text": [
      "+-------+------------------+\n",
      "|summary|            Gender|\n",
      "+-------+------------------+\n",
      "|  count|                80|\n",
      "|   mean|            1.4625|\n",
      "| stddev|0.5017374874664179|\n",
      "|    min|                 1|\n",
      "|    max|                 2|\n",
      "+-------+------------------+\n",
      "\n"
     ]
    }
   ],
   "source": [
    "test_data.describe().show()"
   ]
  },
  {
   "cell_type": "code",
   "execution_count": 27,
   "metadata": {},
   "outputs": [],
   "source": [
    "from pyspark.ml.regression import LinearRegression"
   ]
  },
  {
   "cell_type": "code",
   "execution_count": 28,
   "metadata": {},
   "outputs": [],
   "source": [
    "lm = LinearRegression(labelCol='Gender')"
   ]
  },
  {
   "cell_type": "code",
   "execution_count": 29,
   "metadata": {},
   "outputs": [
    {
     "name": "stderr",
     "output_type": "stream",
     "text": [
      "2022-03-16 20:20:40,643 WARN util.Instrumentation: [9beb6469] regParam is zero, which might cause numerical instability and overfitting.\n",
      "2022-03-16 20:20:40,977 WARN netlib.InstanceBuilder$NativeBLAS: Failed to load implementation from:dev.ludovic.netlib.blas.JNIBLAS\n",
      "2022-03-16 20:20:40,993 WARN netlib.InstanceBuilder$NativeBLAS: Failed to load implementation from:dev.ludovic.netlib.blas.ForeignLinkerBLAS\n",
      "2022-03-16 20:20:41,288 WARN netlib.InstanceBuilder$NativeLAPACK: Failed to load implementation from:dev.ludovic.netlib.lapack.JNILAPACK\n"
     ]
    }
   ],
   "source": [
    "model = lm.fit(train_data)"
   ]
  },
  {
   "cell_type": "code",
   "execution_count": 30,
   "metadata": {},
   "outputs": [],
   "source": [
    "import pandas as pd"
   ]
  },
  {
   "cell_type": "code",
   "execution_count": 32,
   "metadata": {},
   "outputs": [
    {
     "data": {
      "text/html": [
       "<div>\n",
       "<style scoped>\n",
       "    .dataframe tbody tr th:only-of-type {\n",
       "        vertical-align: middle;\n",
       "    }\n",
       "\n",
       "    .dataframe tbody tr th {\n",
       "        vertical-align: top;\n",
       "    }\n",
       "\n",
       "    .dataframe thead th {\n",
       "        text-align: right;\n",
       "    }\n",
       "</style>\n",
       "<table border=\"1\" class=\"dataframe\">\n",
       "  <thead>\n",
       "    <tr style=\"text-align: right;\">\n",
       "      <th></th>\n",
       "      <th>Coefficients</th>\n",
       "    </tr>\n",
       "  </thead>\n",
       "  <tbody>\n",
       "    <tr>\n",
       "      <th>Gender</th>\n",
       "      <td>1.000000e+00</td>\n",
       "    </tr>\n",
       "    <tr>\n",
       "      <th>Age Range</th>\n",
       "      <td>1.774539e-15</td>\n",
       "    </tr>\n",
       "  </tbody>\n",
       "</table>\n",
       "</div>"
      ],
      "text/plain": [
       "           Coefficients\n",
       "Gender     1.000000e+00\n",
       "Age Range  1.774539e-15"
      ]
     },
     "execution_count": 32,
     "metadata": {},
     "output_type": "execute_result"
    }
   ],
   "source": [
    "pd.DataFrame({\"Coefficients\":model.coefficients}, index=['Gender','Age Range'])"
   ]
  },
  {
   "cell_type": "code",
   "execution_count": 33,
   "metadata": {},
   "outputs": [],
   "source": [
    "res = model.evaluate(test_data)"
   ]
  },
  {
   "cell_type": "code",
   "execution_count": 34,
   "metadata": {},
   "outputs": [
    {
     "name": "stderr",
     "output_type": "stream",
     "text": [
      "/home/hdoop/spark/spark-3.2.1-bin-hadoop3.2/python/pyspark/sql/context.py:125: FutureWarning: Deprecated in 3.0.0. Use SparkSession.builder.getOrCreate() instead.\n",
      "  warnings.warn(\n"
     ]
    },
    {
     "name": "stdout",
     "output_type": "stream",
     "text": [
      "+--------------------+\n",
      "|           residuals|\n",
      "+--------------------+\n",
      "|1.221245327087672...|\n",
      "|1.221245327087672...|\n",
      "|1.221245327087672...|\n",
      "|1.221245327087672...|\n",
      "|1.221245327087672...|\n",
      "|1.221245327087672...|\n",
      "|1.221245327087672...|\n",
      "|1.221245327087672...|\n",
      "|1.221245327087672...|\n",
      "|1.221245327087672...|\n",
      "|1.221245327087672...|\n",
      "|1.221245327087672...|\n",
      "|1.221245327087672...|\n",
      "|1.221245327087672...|\n",
      "|1.221245327087672...|\n",
      "|1.221245327087672...|\n",
      "|1.221245327087672...|\n",
      "|1.221245327087672...|\n",
      "|-6.66133814775093...|\n",
      "|-6.66133814775093...|\n",
      "+--------------------+\n",
      "only showing top 20 rows\n",
      "\n"
     ]
    }
   ],
   "source": [
    "res.residuals.show()"
   ]
  },
  {
   "cell_type": "code",
   "execution_count": 35,
   "metadata": {},
   "outputs": [],
   "source": [
    "unlabeled_data = test_data.select('features')"
   ]
  },
  {
   "cell_type": "code",
   "execution_count": 36,
   "metadata": {},
   "outputs": [],
   "source": [
    "predictions = model.transform(unlabeled_data)"
   ]
  },
  {
   "cell_type": "code",
   "execution_count": 37,
   "metadata": {},
   "outputs": [
    {
     "name": "stdout",
     "output_type": "stream",
     "text": [
      "+---------+------------------+\n",
      "| features|        prediction|\n",
      "+---------+------------------+\n",
      "|[1.0,1.0]|0.9999999999999988|\n",
      "|[1.0,1.0]|0.9999999999999988|\n",
      "|[1.0,1.0]|0.9999999999999988|\n",
      "|[1.0,1.0]|0.9999999999999988|\n",
      "|[1.0,1.0]|0.9999999999999988|\n",
      "|[1.0,1.0]|0.9999999999999988|\n",
      "|[1.0,1.0]|0.9999999999999988|\n",
      "|[1.0,1.0]|0.9999999999999988|\n",
      "|[1.0,1.0]|0.9999999999999988|\n",
      "|[1.0,1.0]|0.9999999999999988|\n",
      "|[1.0,1.0]|0.9999999999999988|\n",
      "|[1.0,1.0]|0.9999999999999988|\n",
      "|[1.0,1.0]|0.9999999999999988|\n",
      "|[1.0,1.0]|0.9999999999999988|\n",
      "|[1.0,1.0]|0.9999999999999988|\n",
      "|[1.0,1.0]|0.9999999999999988|\n",
      "|[1.0,1.0]|0.9999999999999988|\n",
      "|[1.0,1.0]|0.9999999999999988|\n",
      "|[1.0,2.0]|1.0000000000000007|\n",
      "|[1.0,2.0]|1.0000000000000007|\n",
      "+---------+------------------+\n",
      "only showing top 20 rows\n",
      "\n"
     ]
    }
   ],
   "source": [
    "predictions.show()"
   ]
  },
  {
   "cell_type": "code",
   "execution_count": 38,
   "metadata": {},
   "outputs": [
    {
     "name": "stdout",
     "output_type": "stream",
     "text": [
      "MAE:  8.382183835919932e-16\n",
      "MSE:  7.984135177451724e-31\n",
      "RMSE: \n",
      "R2 1.0\n",
      "Adj R2 1.0\n"
     ]
    }
   ],
   "source": [
    "print(\"MAE: \", res.meanAbsoluteError)\n",
    "print(\"MSE: \", res.meanSquaredError)\n",
    "print(\"RMSE: \"), res.rootMeanSquaredError\n",
    "print(\"R2\", res.r2)\n",
    "print(\"Adj R2\", res.r2)"
   ]
  }
 ],
 "metadata": {
  "interpreter": {
   "hash": "916dbcbb3f70747c44a77c7bcd40155683ae19c65e1c03b4aa3499c5328201f1"
  },
  "kernelspec": {
   "display_name": "Python 3.8.10 64-bit",
   "language": "python",
   "name": "python3"
  },
  "language_info": {
   "codemirror_mode": {
    "name": "ipython",
    "version": 3
   },
   "file_extension": ".py",
   "mimetype": "text/x-python",
   "name": "python",
   "nbconvert_exporter": "python",
   "pygments_lexer": "ipython3",
   "version": "3.8.10"
  },
  "orig_nbformat": 4
 },
 "nbformat": 4,
 "nbformat_minor": 2
}
